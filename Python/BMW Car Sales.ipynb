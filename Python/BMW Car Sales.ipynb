{
 "cells": [
  {
   "cell_type": "code",
   "execution_count": 5,
   "id": "2edf7bbc-fc8f-4d92-ba07-3d70fba92225",
   "metadata": {},
   "outputs": [
    {
     "name": "stdout",
     "output_type": "stream",
     "text": [
      "      Model  Year         Region  Color Fuel_Type Transmission  Engine_Size_L  \\\n",
      "0  5 Series  2016           Asia    Red    Petrol       Manual            3.5   \n",
      "1        i8  2013  North America    Red    Hybrid    Automatic            1.6   \n",
      "2  5 Series  2022  North America   Blue    Petrol    Automatic            4.5   \n",
      "3        X3  2024    Middle East   Blue    Petrol    Automatic            1.7   \n",
      "4  7 Series  2020  South America  Black    Diesel       Manual            2.1   \n",
      "\n",
      "   Mileage_KM  Price_USD  Sales_Volume Sales_Classification  \n",
      "0      151748      98740          8300                 High  \n",
      "1      121671      79219          3428                  Low  \n",
      "2       10991     113265          6994                  Low  \n",
      "3       27255      60971          4047                  Low  \n",
      "4      122131      49898          3080                  Low  \n",
      "Model                   0\n",
      "Year                    0\n",
      "Region                  0\n",
      "Color                   0\n",
      "Fuel_Type               0\n",
      "Transmission            0\n",
      "Engine_Size_L           0\n",
      "Mileage_KM              0\n",
      "Price_USD               0\n",
      "Sales_Volume            0\n",
      "Sales_Classification    0\n",
      "dtype: int64\n"
     ]
    }
   ],
   "source": [
    "import numpy as np\n",
    "import pandas as pd\n",
    "import seaborn as sns\n",
    "import streamlit as st\n",
    "import matplotlib.pyplot as plt\n",
    "\n",
    "df = pd.read_csv('./BMW_Car_Sales.csv')\n",
    "print(df.head())\n",
    "\n",
    "# Checking for missing values\n",
    "print(df.isnull().sum())"
   ]
  },
  {
   "cell_type": "code",
   "execution_count": 28,
   "id": "18b5cc81-bd75-4d0e-bb10-934464ced0aa",
   "metadata": {},
   "outputs": [
    {
     "name": "stdout",
     "output_type": "stream",
     "text": [
      "(50000, 11)\n"
     ]
    }
   ],
   "source": [
    "print(df.shape)"
   ]
  },
  {
   "cell_type": "code",
   "execution_count": 29,
   "id": "4e3a177b-3402-4821-9dd4-88befe27311d",
   "metadata": {},
   "outputs": [
    {
     "name": "stdout",
     "output_type": "stream",
     "text": [
      "<bound method DataFrame.info of           Model  Year         Region   Color Fuel_Type Transmission  \\\n",
      "0      5 Series  2016           Asia     Red    Petrol       Manual   \n",
      "1            i8  2013  North America     Red    Hybrid    Automatic   \n",
      "2      5 Series  2022  North America    Blue    Petrol    Automatic   \n",
      "3            X3  2024    Middle East    Blue    Petrol    Automatic   \n",
      "4      7 Series  2020  South America   Black    Diesel       Manual   \n",
      "...         ...   ...            ...     ...       ...          ...   \n",
      "49995        i3  2014           Asia     Red    Hybrid       Manual   \n",
      "49996        i3  2023    Middle East  Silver  Electric       Manual   \n",
      "49997  5 Series  2010    Middle East     Red    Petrol    Automatic   \n",
      "49998        i3  2020           Asia   White  Electric    Automatic   \n",
      "49999        X1  2020  North America    Blue    Diesel       Manual   \n",
      "\n",
      "       Engine_Size_L  Mileage_KM  Price_USD  Sales_Volume Sales_Classification  \n",
      "0                3.5      151748      98740          8300                 High  \n",
      "1                1.6      121671      79219          3428                  Low  \n",
      "2                4.5       10991     113265          6994                  Low  \n",
      "3                1.7       27255      60971          4047                  Low  \n",
      "4                2.1      122131      49898          3080                  Low  \n",
      "...              ...         ...        ...           ...                  ...  \n",
      "49995            4.6      151030      42932          8182                 High  \n",
      "49996            4.2      147396      48714          9816                 High  \n",
      "49997            4.5      174939      46126          8280                 High  \n",
      "49998            3.8        3379      58566          9486                 High  \n",
      "49999            3.3      171003      77492          1764                  Low  \n",
      "\n",
      "[50000 rows x 11 columns]>\n"
     ]
    }
   ],
   "source": [
    "print(df.info)"
   ]
  },
  {
   "cell_type": "code",
   "execution_count": 30,
   "id": "51656c79-1294-496e-8cd2-814f0d290c6d",
   "metadata": {},
   "outputs": [
    {
     "name": "stdout",
     "output_type": "stream",
     "text": [
      "Index(['Model', 'Year', 'Region', 'Color', 'Fuel_Type', 'Transmission',\n",
      "       'Engine_Size_L', 'Mileage_KM', 'Price_USD', 'Sales_Volume',\n",
      "       'Sales_Classification'],\n",
      "      dtype='object')\n"
     ]
    }
   ],
   "source": [
    "print(df.columns)"
   ]
  },
  {
   "cell_type": "code",
   "execution_count": 32,
   "id": "88242606-65fd-4607-8714-a644e5cc82cc",
   "metadata": {},
   "outputs": [
    {
     "name": "stdout",
     "output_type": "stream",
     "text": [
      "0\n"
     ]
    }
   ],
   "source": [
    "print(df.duplicated().sum())"
   ]
  },
  {
   "cell_type": "code",
   "execution_count": 14,
   "id": "61fa2711-68d2-49f8-82d9-62952968f4e8",
   "metadata": {},
   "outputs": [
    {
     "name": "stdout",
     "output_type": "stream",
     "text": [
      "      Model         Region\n",
      "0  5 Series           Asia\n",
      "1        i8  North America\n",
      "2  5 Series  North America\n",
      "3        X3    Middle East\n",
      "4  7 Series  South America\n"
     ]
    }
   ],
   "source": [
    "# The first 5 rows of the \"model\" and \"region\" columns\n",
    "print(df[[\"Model\", \"Region\"]].head())"
   ]
  },
  {
   "cell_type": "code",
   "execution_count": 15,
   "id": "d2e619d8-2dc3-4d80-9c31-d4454cb581d9",
   "metadata": {},
   "outputs": [
    {
     "name": "stdout",
     "output_type": "stream",
     "text": [
      "Model\n",
      "7 Series    4666\n",
      "i3          4618\n",
      "i8          4606\n",
      "3 Series    4595\n",
      "5 Series    4592\n",
      "Name: count, dtype: int64\n"
     ]
    }
   ],
   "source": [
    "# Top 5 best-selling models\n",
    "top_models = df['Model'].value_counts().head(5)\n",
    "print(top_models)"
   ]
  },
  {
   "cell_type": "code",
   "execution_count": 34,
   "id": "246c5074-247a-4bfe-853c-7651d131893e",
   "metadata": {},
   "outputs": [
    {
     "name": "stdout",
     "output_type": "stream",
     "text": [
      "          Model  Year       Region   Color Fuel_Type Transmission  \\\n",
      "26071        i8  2010  Middle East  Silver  Electric       Manual   \n",
      "38158        X6  2019         Asia     Red  Electric    Automatic   \n",
      "6862         i8  2024       Africa  Silver    Diesel    Automatic   \n",
      "154          X1  2016       Africa    Grey    Petrol       Manual   \n",
      "6271   3 Series  2019  Middle East   White    Hybrid       Manual   \n",
      "...         ...   ...          ...     ...       ...          ...   \n",
      "3264   3 Series  2021  Middle East     Red    Hybrid       Manual   \n",
      "13439        M5  2018         Asia   Black    Hybrid       Manual   \n",
      "26405  5 Series  2015       Africa   White    Hybrid       Manual   \n",
      "19031        X5  2022         Asia    Blue    Diesel       Manual   \n",
      "3762         i8  2013         Asia    Grey  Electric    Automatic   \n",
      "\n",
      "       Engine_Size_L  Mileage_KM  Price_USD  Sales_Volume Sales_Classification  \n",
      "26071            4.2      115320     119998          5842                  Low  \n",
      "38158            3.3      142419     119997          4575                  Low  \n",
      "6862             4.1      163849     119997          9250                 High  \n",
      "154              4.1      172950     119996          9620                 High  \n",
      "6271             4.0       12264     119994          3259                  Low  \n",
      "...              ...         ...        ...           ...                  ...  \n",
      "3264             4.1       54636      30008          5554                  Low  \n",
      "13439            4.9       27843      30005          6316                  Low  \n",
      "26405            2.4      190634      30002          5469                  Low  \n",
      "19031            4.8      100254      30001          5035                  Low  \n",
      "3762             2.5      165642      30000          7782                 High  \n",
      "\n",
      "[50000 rows x 11 columns]\n"
     ]
    }
   ],
   "source": [
    "# Sorting for price\n",
    "sort_price = df.sort_values(by = \"Price_USD\", ascending = False)\n",
    "print(sort_price)"
   ]
  },
  {
   "cell_type": "code",
   "execution_count": 16,
   "id": "c094783e-f884-49a3-812f-13efb8003913",
   "metadata": {},
   "outputs": [
    {
     "name": "stdout",
     "output_type": "stream",
     "text": [
      "Year\n",
      "2010    75072.215916\n",
      "2011    75293.276388\n",
      "2012    75019.567227\n",
      "2013    74535.908298\n",
      "2014    74556.535224\n",
      "2015    74049.552710\n",
      "2016    75543.540862\n",
      "2017    75173.147416\n",
      "2018    75455.480781\n",
      "2019    75194.426002\n",
      "2020    75057.667083\n",
      "2021    75399.277580\n",
      "2022    74967.875503\n",
      "2023    75194.004660\n",
      "2024    75025.852933\n",
      "Name: Price_USD, dtype: float64\n"
     ]
    }
   ],
   "source": [
    "# Average price by year\n",
    "avg = df.groupby(\"Year\")[\"Price_USD\"].mean()\n",
    "print(avg)"
   ]
  },
  {
   "cell_type": "code",
   "execution_count": 17,
   "id": "cfc95ac0-101b-4051-b6b2-b25b20c93bc2",
   "metadata": {},
   "outputs": [
    {
     "name": "stdout",
     "output_type": "stream",
     "text": [
      "Model\n",
      "3 Series    75566.233950\n",
      "5 Series    75287.844077\n",
      "7 Series    75570.196742\n",
      "M3          74841.588715\n",
      "M5          74474.930996\n",
      "X1          75262.219037\n",
      "X3          75016.616856\n",
      "X5          74708.116782\n",
      "X6          74434.600491\n",
      "i3          74800.268081\n",
      "i8          75366.270951\n",
      "Name: Price_USD, dtype: float64\n"
     ]
    }
   ],
   "source": [
    "# Average price by model\n",
    "avg = df.groupby(\"Model\")[\"Price_USD\"].mean()\n",
    "print(avg)"
   ]
  },
  {
   "cell_type": "code",
   "execution_count": 67,
   "id": "eab53a25-056e-4896-94e2-bf30ee6ef6a3",
   "metadata": {},
   "outputs": [
    {
     "name": "stdout",
     "output_type": "stream",
     "text": [
      "      Price_USD\n",
      "Year           \n",
      "2010  249990479\n",
      "2011  246811360\n",
      "2012  249965198\n",
      "2013  247906431\n",
      "2014  249764393\n",
      "2015  248658398\n",
      "2016  254204015\n",
      "2017  247319655\n",
      "2018  247343066\n",
      "2019  255059493\n",
      "2020  240559823\n",
      "2021  254246364\n",
      "2022  260738271\n",
      "2023  242049501\n",
      "2024  257113598\n"
     ]
    },
    {
     "data": {
      "image/png": "[encoded data removed]",
      "text/plain": [
       "<Figure size 640x480 with 1 Axes>"
      ]
     },
     "metadata": {},
     "output_type": "display_data"
    }
   ],
   "source": [
    "# Total price chart by year\n",
    "sum = df.groupby(\"Year\").agg({\n",
    "    \"Price_USD\": \"sum\"\n",
    "})\n",
    "print(sum)\n",
    "sum.plot (kind = \"line\")\n",
    "plt.xlabel(\"Year\")\n",
    "plt.ylabel(\"Total Price\")\n",
    "plt.title(\"Total Price by Year\")\n",
    "plt.axhline(y=np.nanmean(sum[\"Price_USD\"]))\n",
    "plt.show()\n"
   ]
  },
  {
   "cell_type": "code",
   "execution_count": 18,
   "id": "346ba0bb-3b9c-4417-b645-f01e8aed75a4",
   "metadata": {},
   "outputs": [
    {
     "name": "stdout",
     "output_type": "stream",
     "text": [
      "50000\n"
     ]
    }
   ],
   "source": [
    "# Number of models priced over 15,000 USD\n",
    "print(df[df[\"Price_USD\"] > 15.000].shape[0])"
   ]
  },
  {
   "cell_type": "code",
   "execution_count": 68,
   "id": "4e13cb32-2926-42a9-827e-311ec1ba1c3f",
   "metadata": {},
   "outputs": [
    {
     "name": "stdout",
     "output_type": "stream",
     "text": [
      "Different Model: 11\n",
      "Models:\n",
      " Model\n",
      "7 Series    4666\n",
      "i3          4618\n",
      "i8          4606\n",
      "3 Series    4595\n",
      "5 Series    4592\n",
      "X1          4570\n",
      "X3          4497\n",
      "X5          4487\n",
      "M5          4478\n",
      "X6          4478\n",
      "M3          4413\n",
      "Name: count, dtype: int64\n"
     ]
    }
   ],
   "source": [
    "# Find how many distinct models are in the “Model” column. Print the number of occurrences for each model.\n",
    "print(\"Different Model:\", df[\"Model\"].nunique())\n",
    "print(\"Models:\\n\", df[\"Model\"].value_counts())"
   ]
  },
  {
   "cell_type": "code",
   "execution_count": 20,
   "id": "ed031fbb-39e6-40e1-9406-d281860bcd94",
   "metadata": {},
   "outputs": [
    {
     "name": "stdout",
     "output_type": "stream",
     "text": [
      "         Price_USD  Sales_Volume\n",
      "Year                            \n",
      "2010  75072.215916   5085.118619\n",
      "2011  75293.276388   5112.550641\n",
      "2012  75019.567227   5027.579532\n",
      "2013  74535.908298   5071.176488\n",
      "2014  74556.535224   5062.376119\n",
      "2015  74049.552710   5065.576831\n",
      "2016  75543.540862   5039.390788\n",
      "2017  75173.147416   5051.918237\n",
      "2018  75455.480781   5006.794692\n",
      "2019  75194.426002   5068.383255\n",
      "2020  75057.667083   5089.186583\n",
      "2021  75399.277580   5007.314947\n",
      "2022  74967.875503   5152.658424\n",
      "2023  75194.004660   5053.946567\n",
      "2024  75025.852933   5114.634958\n"
     ]
    }
   ],
   "source": [
    "# Using pivot_table, display both the average Price_USD and Sales_Volume values for each year type.\n",
    "pivot_table = df.pivot_table(\n",
    "    values=[\"Price_USD\", \"Sales_Volume\"],\n",
    "    index=\"Year\",\n",
    "    aggfunc=\"mean\"\n",
    ")\n",
    "print(pivot_table)"
   ]
  }
 ],
 "metadata": {
  "kernelspec": {
   "display_name": "base",
   "language": "python",
   "name": "python3"
  },
  "language_info": {
   "codemirror_mode": {
    "name": "ipython",
    "version": 3
   },
   "file_extension": ".py",
   "mimetype": "text/x-python",
   "name": "python",
   "nbconvert_exporter": "python",
   "pygments_lexer": "ipython3",
   "version": "3.13.5"
  }
 },
 "nbformat": 4,
 "nbformat_minor": 5
}
